{
 "cells": [
  {
   "cell_type": "code",
   "execution_count": 12,
   "metadata": {},
   "outputs": [
    {
     "data": {
      "text/plain": [
       "'\\n\\n@Author: Vighnesh Harish Bilgi\\n@Date: 2022-12-09\\n@Last Modified by: Vighnesh Harish Bilgi\\n@Last Modified time: 2022-12-09\\n@Title : \\n\\n'"
      ]
     },
     "execution_count": 12,
     "metadata": {},
     "output_type": "execute_result"
    }
   ],
   "source": [
    "'''\n",
    "\n",
    "@Author: Vighnesh Harish Bilgi\n",
    "@Date: 2022-12-09\n",
    "@Last Modified by: Vighnesh Harish Bilgi\n",
    "@Last Modified time: 2022-12-09\n",
    "@Title : Data Modelling - 1 : Demo\n",
    "\n",
    "'''"
   ]
  },
  {
   "cell_type": "code",
   "execution_count": 13,
   "metadata": {},
   "outputs": [],
   "source": [
    "import mysql.connector\n",
    "import os"
   ]
  },
  {
   "cell_type": "code",
   "execution_count": 14,
   "metadata": {},
   "outputs": [],
   "source": [
    "sql_password = os.environ.get(\"sql_password\")"
   ]
  },
  {
   "attachments": {},
   "cell_type": "markdown",
   "metadata": {},
   "source": [
    "### Custom functions to connect to the mysql server and iterate the cursor"
   ]
  },
  {
   "cell_type": "code",
   "execution_count": 15,
   "metadata": {},
   "outputs": [],
   "source": [
    "def iterate_cursor(db_cursor):\n",
    "    \"\"\"\n",
    "    Description:\n",
    "        Take MySQLCursor argument from parameter \"db_cursor\" and iterate and print the selected records with its column name \n",
    "        (i.e. a SELECT or SHOW command must be called before iterate_cursor() is called).\n",
    "    Parameter:\n",
    "        MySQLCursor db_cursor\n",
    "    Return:\n",
    "        No values returned.\n",
    "    \"\"\"\n",
    "    print(db_cursor.column_names)\n",
    "    for db in db_cursor:\n",
    "        print(db)\n",
    "\n",
    "def connect_to_sql():\n",
    "    \"\"\"\n",
    "    Description:\n",
    "        To setup connection to MySQL Server, pass hostname , user and password as arguments to parameters \"host\",\"user\" and \"passwd\" of connect() respectively.\n",
    "        connect() is method from module \"mysql.connector\". Once the connection is set. Return it.\n",
    "    Parameter:\n",
    "        No parameters.\n",
    "    Return:\n",
    "        MYSQLConnection db_connection\n",
    "    \"\"\"\n",
    "\n",
    "    db_connection = mysql.connector.connect(\n",
    "    host= \"localhost\",\n",
    "    user= \"root\",\n",
    "    passwd= sql_password\n",
    "    )\n",
    "\n",
    "    return db_connection"
   ]
  },
  {
   "attachments": {},
   "cell_type": "markdown",
   "metadata": {},
   "source": [
    "### Custom functions to create database 'myfirstdb'"
   ]
  },
  {
   "cell_type": "code",
   "execution_count": 16,
   "metadata": {},
   "outputs": [],
   "source": [
    "def create_database(db_cursor):\n",
    "    \"\"\"\n",
    "    Description:\n",
    "        Take MySQLCursor argument from parameter \"db_cursor\" and create database\n",
    "        Return updated cursor. \n",
    "    Parameter:\n",
    "        MySQLCursor db_cursor\n",
    "    Return:\n",
    "        MySQLCursor db_cursor\n",
    "    \"\"\"\n",
    "    print(\"Creating DATABASE - myfirstdb\\n\")\n",
    "    db_cursor.execute(\"DROP DATABASE IF EXISTS myfirstdb\")\n",
    "    db_cursor.execute(\"CREATE DATABASE myfirstdb\")\n",
    "\n",
    "    print(\"Showing all databases...\")\n",
    "    db_cursor.execute(\"SHOW DATABASES\")\n",
    "    iterate_cursor(db_cursor)\n",
    "\n",
    "    print(\"\\nUsing myfirstdb\")\n",
    "    db_cursor.execute(\"USE myfirstdb\")\n",
    "\n",
    "    return db_cursor"
   ]
  },
  {
   "attachments": {},
   "cell_type": "markdown",
   "metadata": {},
   "source": [
    "### Custom function to create table 'students'"
   ]
  },
  {
   "cell_type": "code",
   "execution_count": 23,
   "metadata": {},
   "outputs": [],
   "source": [
    "def create_table(db_cursor):\n",
    "    \"\"\"\n",
    "    Description:\n",
    "        Take MySQLCursor argument from parameter \"db_cursor\" and create table.\n",
    "        Return updated cursor. \n",
    "    Parameter:\n",
    "        MySQLCursor db_cursor\n",
    "    Return:\n",
    "        MySQLCursor db_cursor\n",
    "    \"\"\"\n",
    "\n",
    "    print(\"Creating TABLE - students\")\n",
    "    db_cursor.execute(\"\"\"CREATE TABLE IF NOT EXISTS students (student_id INT(5), name VARCHAR(20), age INT(5), gender VARCHAR(10),subject VARCHAR(20),marks INT(3))\"\"\")\n",
    "\n",
    "    print(\"Showing all tables under myfirstdb...\")\n",
    "    db_cursor.execute(\"SHOW TABLES\")\n",
    "    iterate_cursor(db_cursor)\n",
    "\n",
    "    print(\"Showing 'students' Table schema  ...\")\n",
    "    db_cursor.execute(\"DESCRIBE students\")\n",
    "    iterate_cursor(db_cursor)\n",
    "    return db_cursor"
   ]
  },
  {
   "attachments": {},
   "cell_type": "markdown",
   "metadata": {},
   "source": [
    "### Custom function to insert records into table 'students'"
   ]
  },
  {
   "cell_type": "code",
   "execution_count": 47,
   "metadata": {},
   "outputs": [],
   "source": [
    "def insert_table(db_cursor,record):\n",
    "    \"\"\"\n",
    "    Description:\n",
    "        Take MySQLCursor argument from parameter \"db_cursor\" and perform Create Operation of CRUD by applying execute() on cursor.\n",
    "        Return updated cursor. \n",
    "    Parameter:\n",
    "        MySQLCursor db_cursor\n",
    "    Return:\n",
    "        MySQLCursor db_cursor\n",
    "    \"\"\"\n",
    "\n",
    "    print(f\"Inserting record {record} into table...\\n\")\n",
    "    db_cursor.execute(f\"\"\"INSERT INTO students (student_id, name, age, gender, subject, marks) \n",
    "                        VALUES {record}\"\"\")\n",
    "    return db_cursor"
   ]
  },
  {
   "attachments": {},
   "cell_type": "markdown",
   "metadata": {},
   "source": [
    "### Custom function to show all records from table 'students'"
   ]
  },
  {
   "cell_type": "code",
   "execution_count": 43,
   "metadata": {},
   "outputs": [],
   "source": [
    "def show_all_records(db_cursor):\n",
    "    \"\"\"\n",
    "    Description:\n",
    "        Take MySQLCursor argument from parameter \"db_cursor\" and show all records from table.\n",
    "        Return updated cursor. \n",
    "    Parameter:\n",
    "        MySQLCursor db_cursor\n",
    "    Return:\n",
    "        MySQLCursor db_cursor\n",
    "    \"\"\"\n",
    "\n",
    "    print(\"Printing records from table...\\n\")\n",
    "    db_cursor.execute(\"SELECT * FROM students\")\n",
    "    iterate_cursor(db_cursor)\n",
    "    return db_cursor"
   ]
  },
  {
   "attachments": {},
   "cell_type": "markdown",
   "metadata": {},
   "source": [
    "### Call fuction to connect to mysql cursor and get a cursor to execute queries"
   ]
  },
  {
   "cell_type": "code",
   "execution_count": 19,
   "metadata": {},
   "outputs": [],
   "source": [
    "db_connection = connect_to_sql()\n",
    "db_cursor = db_connection.cursor()"
   ]
  },
  {
   "attachments": {},
   "cell_type": "markdown",
   "metadata": {},
   "source": [
    "### Call function to create database 'myfirstdb'"
   ]
  },
  {
   "cell_type": "code",
   "execution_count": 20,
   "metadata": {},
   "outputs": [
    {
     "name": "stdout",
     "output_type": "stream",
     "text": [
      "Creating DATABASE - myfirstdb\n",
      "\n",
      "Showing all databases...\n",
      "('Database',)\n",
      "('information_schema',)\n",
      "('myfirstdb',)\n",
      "('mysql',)\n",
      "('performance_schema',)\n",
      "('sys',)\n",
      "\n",
      "Using myfirstdb\n"
     ]
    },
    {
     "data": {
      "text/plain": [
       "<mysql.connector.cursor.MySQLCursor at 0x1dbcf471340>"
      ]
     },
     "execution_count": 20,
     "metadata": {},
     "output_type": "execute_result"
    }
   ],
   "source": [
    "db_cursor = create_database(db_cursor)"
   ]
  },
  {
   "attachments": {},
   "cell_type": "markdown",
   "metadata": {},
   "source": [
    "### Call function to create table 'students'"
   ]
  },
  {
   "cell_type": "code",
   "execution_count": 49,
   "metadata": {},
   "outputs": [
    {
     "name": "stdout",
     "output_type": "stream",
     "text": [
      "Creating TABLE - students\n",
      "Showing all tables under myfirstdb...\n",
      "('Tables_in_myfirstdb',)\n",
      "('students',)\n",
      "Showing 'students' Table schema  ...\n",
      "('Field', 'Type', 'Null', 'Key', 'Default', 'Extra')\n",
      "('student_id', 'int', 'YES', '', None, '')\n",
      "('name', 'varchar(20)', 'YES', '', None, '')\n",
      "('age', 'int', 'YES', '', None, '')\n",
      "('gender', 'varchar(10)', 'YES', '', None, '')\n",
      "('subject', 'varchar(20)', 'YES', '', None, '')\n",
      "('marks', 'int', 'YES', '', None, '')\n"
     ]
    },
    {
     "data": {
      "text/plain": [
       "<mysql.connector.cursor.MySQLCursor at 0x1dbcf471340>"
      ]
     },
     "execution_count": 49,
     "metadata": {},
     "output_type": "execute_result"
    }
   ],
   "source": [
    "db_cursor = create_table(db_cursor)"
   ]
  },
  {
   "attachments": {},
   "cell_type": "markdown",
   "metadata": {},
   "source": [
    "### Insert records into table 'students'"
   ]
  },
  {
   "cell_type": "code",
   "execution_count": 50,
   "metadata": {},
   "outputs": [
    {
     "name": "stdout",
     "output_type": "stream",
     "text": [
      "Inserting record (1, 'Raj', 23, 'Male', 'Python', 85) into table...\n",
      "\n",
      "Inserting record (2, 'Priya', 22, 'Female', 'Python', 86) into table...\n",
      "\n",
      "Printing records from table...\n",
      "\n",
      "('student_id', 'name', 'age', 'gender', 'subject', 'marks')\n",
      "(1, 'Raj', 23, 'Male', 'Python', 85)\n",
      "(2, 'Priya', 22, 'Female', 'Python', 86)\n"
     ]
    },
    {
     "data": {
      "text/plain": [
       "<mysql.connector.cursor.MySQLCursor at 0x1dbcf471340>"
      ]
     },
     "execution_count": 50,
     "metadata": {},
     "output_type": "execute_result"
    }
   ],
   "source": [
    "record = (1,'Raj',23,'Male','Python',85)\n",
    "db_cursor = insert_table(db_cursor,record)\n",
    "record = (2,'Priya',22,'Female','Python',86)\n",
    "db_cursor = insert_table(db_cursor,record)\n",
    "show_all_records(db_cursor)"
   ]
  },
  {
   "attachments": {},
   "cell_type": "markdown",
   "metadata": {},
   "source": [
    "### Close cursor"
   ]
  },
  {
   "cell_type": "code",
   "execution_count": 51,
   "metadata": {},
   "outputs": [
    {
     "data": {
      "text/plain": [
       "True"
      ]
     },
     "execution_count": 51,
     "metadata": {},
     "output_type": "execute_result"
    }
   ],
   "source": [
    "db_cursor.close()"
   ]
  }
 ],
 "metadata": {
  "kernelspec": {
   "display_name": "Python 3.8.10 64-bit",
   "language": "python",
   "name": "python3"
  },
  "language_info": {
   "codemirror_mode": {
    "name": "ipython",
    "version": 3
   },
   "file_extension": ".py",
   "mimetype": "text/x-python",
   "name": "python",
   "nbconvert_exporter": "python",
   "pygments_lexer": "ipython3",
   "version": "3.8.10 (tags/v3.8.10:3d8993a, May  3 2021, 11:48:03) [MSC v.1928 64 bit (AMD64)]"
  },
  "orig_nbformat": 4,
  "vscode": {
   "interpreter": {
    "hash": "570feb405e2e27c949193ac68f46852414290d515b0ba6e5d90d076ed2284471"
   }
  }
 },
 "nbformat": 4,
 "nbformat_minor": 2
}
